{
 "cells": [
  {
   "cell_type": "markdown",
   "id": "bfefa205",
   "metadata": {},
   "source": [
    "\"\"\"\n",
    "\n",
    "Constraints:\n",
    "Each clothing item is given to exactly one child\n",
    "Clothing size must match the chosen child’s size\n",
    "Each child receives at least one summer item and one winter item\n",
    "\n",
    "\n",
    "Objective:\n",
    "◦ Let R = the sum of the retail prices for all of the clothing\n",
    "◦ Let N = the number of children\n",
    "◦ R/N = the fair share for each child\n",
    "◦ Let Ci = the sum of the clothing prices for child i\n",
    "◦ | R/N - Ci | = the amount over/under that child i received\n",
    "◦ Your project code must compute a distribution that will provide the absolute minimum value for\n",
    "D, where D is:\n",
    "\n",
    "\n",
    "Signed Academic Integrity statement must be submitted\n",
    "\n",
    "\n",
    "Your goal is to distribute them as fairly as possible, while ensuring that the clothes fit and that\n",
    "each child gets at least one summer item and one winter item.\n",
    "\"\"\""
   ]
  },
  {
   "cell_type": "code",
   "execution_count": 1,
   "id": "978cd3d9",
   "metadata": {},
   "outputs": [],
   "source": [
    "fname = \"example_input/ex6_2children_6clothes.txt\""
   ]
  },
  {
   "cell_type": "markdown",
   "id": "108954f9",
   "metadata": {},
   "source": [
    "#### 1. Load and Prepare data"
   ]
  },
  {
   "cell_type": "code",
   "execution_count": 2,
   "id": "d55e6105",
   "metadata": {},
   "outputs": [],
   "source": [
    "with open(fname) as f:\n",
    "    flines = f.readlines()\n",
    "    clothes_records  = []\n",
    "    children_records = []\n",
    "    for fline in flines:\n",
    "        if 'Clothes' in fline or 'Children' in fline:\n",
    "            continue\n",
    "        else:\n",
    "            if fline[0] == 'A':\n",
    "                cloth_record = fline.split(\"\\t\")\n",
    "                clothes_records.append({\n",
    "                                               'cloth_id': cloth_record[0],\n",
    "                                               'cloth_size': cloth_record[1],\n",
    "                                               'cloth_season': cloth_record[2],\n",
    "                                               'cloth_price': cloth_record[3].strip()\n",
    "                                       }\n",
    "                                      )\n",
    "            else:\n",
    "                children_record = fline.split(\"\\t\")\n",
    "                children_records.append(\n",
    "                    {\n",
    "                        'child_id': children_record[0],\n",
    "                        'child_size': children_record[1].strip(),\n",
    "                        'summer_clothes': [],\n",
    "                        'winter_clothes': []\n",
    "                    }\n",
    "                )"
   ]
  },
  {
   "cell_type": "code",
   "execution_count": 3,
   "id": "7c13721b",
   "metadata": {},
   "outputs": [],
   "source": [
    "import pandas as pd"
   ]
  },
  {
   "cell_type": "code",
   "execution_count": 4,
   "id": "3e525f2b",
   "metadata": {},
   "outputs": [
    {
     "data": {
      "text/html": [
       "<div>\n",
       "<style scoped>\n",
       "    .dataframe tbody tr th:only-of-type {\n",
       "        vertical-align: middle;\n",
       "    }\n",
       "\n",
       "    .dataframe tbody tr th {\n",
       "        vertical-align: top;\n",
       "    }\n",
       "\n",
       "    .dataframe thead th {\n",
       "        text-align: right;\n",
       "    }\n",
       "</style>\n",
       "<table border=\"1\" class=\"dataframe\">\n",
       "  <thead>\n",
       "    <tr style=\"text-align: right;\">\n",
       "      <th></th>\n",
       "      <th>cloth_id</th>\n",
       "      <th>cloth_size</th>\n",
       "      <th>cloth_season</th>\n",
       "      <th>cloth_price</th>\n",
       "    </tr>\n",
       "  </thead>\n",
       "  <tbody>\n",
       "    <tr>\n",
       "      <th>0</th>\n",
       "      <td>A1</td>\n",
       "      <td>S</td>\n",
       "      <td>summer</td>\n",
       "      <td>24</td>\n",
       "    </tr>\n",
       "    <tr>\n",
       "      <th>1</th>\n",
       "      <td>A2</td>\n",
       "      <td>ALL</td>\n",
       "      <td>winter</td>\n",
       "      <td>20</td>\n",
       "    </tr>\n",
       "    <tr>\n",
       "      <th>2</th>\n",
       "      <td>A3</td>\n",
       "      <td>ALL</td>\n",
       "      <td>winter</td>\n",
       "      <td>30</td>\n",
       "    </tr>\n",
       "    <tr>\n",
       "      <th>3</th>\n",
       "      <td>A4</td>\n",
       "      <td>XL</td>\n",
       "      <td>summer</td>\n",
       "      <td>15</td>\n",
       "    </tr>\n",
       "    <tr>\n",
       "      <th>4</th>\n",
       "      <td>A5</td>\n",
       "      <td>XL</td>\n",
       "      <td>summer</td>\n",
       "      <td>36</td>\n",
       "    </tr>\n",
       "    <tr>\n",
       "      <th>5</th>\n",
       "      <td>A6</td>\n",
       "      <td>S</td>\n",
       "      <td>summer</td>\n",
       "      <td>26</td>\n",
       "    </tr>\n",
       "  </tbody>\n",
       "</table>\n",
       "</div>"
      ],
      "text/plain": [
       "  cloth_id cloth_size cloth_season cloth_price\n",
       "0       A1          S       summer          24\n",
       "1       A2        ALL       winter          20\n",
       "2       A3        ALL       winter          30\n",
       "3       A4         XL       summer          15\n",
       "4       A5         XL       summer          36\n",
       "5       A6          S       summer          26"
      ]
     },
     "execution_count": 4,
     "metadata": {},
     "output_type": "execute_result"
    }
   ],
   "source": [
    "pd.DataFrame(clothes_records)"
   ]
  },
  {
   "cell_type": "code",
   "execution_count": 5,
   "id": "8f5db78e",
   "metadata": {},
   "outputs": [
    {
     "data": {
      "text/html": [
       "<div>\n",
       "<style scoped>\n",
       "    .dataframe tbody tr th:only-of-type {\n",
       "        vertical-align: middle;\n",
       "    }\n",
       "\n",
       "    .dataframe tbody tr th {\n",
       "        vertical-align: top;\n",
       "    }\n",
       "\n",
       "    .dataframe thead th {\n",
       "        text-align: right;\n",
       "    }\n",
       "</style>\n",
       "<table border=\"1\" class=\"dataframe\">\n",
       "  <thead>\n",
       "    <tr style=\"text-align: right;\">\n",
       "      <th></th>\n",
       "      <th>child_id</th>\n",
       "      <th>child_size</th>\n",
       "      <th>summer_clothes</th>\n",
       "      <th>winter_clothes</th>\n",
       "    </tr>\n",
       "  </thead>\n",
       "  <tbody>\n",
       "    <tr>\n",
       "      <th>0</th>\n",
       "      <td>C1</td>\n",
       "      <td>XL</td>\n",
       "      <td>[]</td>\n",
       "      <td>[]</td>\n",
       "    </tr>\n",
       "    <tr>\n",
       "      <th>1</th>\n",
       "      <td>C2</td>\n",
       "      <td>S</td>\n",
       "      <td>[]</td>\n",
       "      <td>[]</td>\n",
       "    </tr>\n",
       "  </tbody>\n",
       "</table>\n",
       "</div>"
      ],
      "text/plain": [
       "  child_id child_size summer_clothes winter_clothes\n",
       "0       C1         XL             []             []\n",
       "1       C2          S             []             []"
      ]
     },
     "execution_count": 5,
     "metadata": {},
     "output_type": "execute_result"
    }
   ],
   "source": [
    "pd.DataFrame(children_records)"
   ]
  },
  {
   "cell_type": "markdown",
   "id": "2744720b",
   "metadata": {},
   "source": [
    "#### 2. Compute all static variables before starting the optimization algorithm"
   ]
  },
  {
   "cell_type": "code",
   "execution_count": 6,
   "id": "235af4b4",
   "metadata": {},
   "outputs": [
    {
     "data": {
      "text/plain": [
       "2"
      ]
     },
     "execution_count": 6,
     "metadata": {},
     "output_type": "execute_result"
    }
   ],
   "source": [
    "N = len(children_records) # the number of children\n",
    "N"
   ]
  },
  {
   "cell_type": "code",
   "execution_count": 7,
   "id": "7833011b",
   "metadata": {},
   "outputs": [
    {
     "data": {
      "text/plain": [
       "151.0"
      ]
     },
     "execution_count": 7,
     "metadata": {},
     "output_type": "execute_result"
    }
   ],
   "source": [
    "# R = the sum of the retail prices for all of the clothing\n",
    "R = 0\n",
    "for cloth_record in clothes_records:\n",
    "    R += float(cloth_record['cloth_price'])\n",
    "R"
   ]
  },
  {
   "cell_type": "code",
   "execution_count": 8,
   "id": "91c5f6d8",
   "metadata": {},
   "outputs": [
    {
     "data": {
      "text/plain": [
       "75.5"
      ]
     },
     "execution_count": 8,
     "metadata": {},
     "output_type": "execute_result"
    }
   ],
   "source": [
    "## R/N = the fair share for each child\n",
    "r_by_n_ratio = R/N\n",
    "r_by_n_ratio"
   ]
  },
  {
   "cell_type": "markdown",
   "id": "47666dfc",
   "metadata": {},
   "source": [
    "#### 3. Matrix preparation"
   ]
  },
  {
   "cell_type": "code",
   "execution_count": 9,
   "id": "c40a571c",
   "metadata": {},
   "outputs": [
    {
     "data": {
      "text/plain": [
       "(6, 2)"
      ]
     },
     "execution_count": 9,
     "metadata": {},
     "output_type": "execute_result"
    }
   ],
   "source": [
    "len(clothes_records), len(children_records)"
   ]
  },
  {
   "cell_type": "code",
   "execution_count": 10,
   "id": "e0c20f22",
   "metadata": {},
   "outputs": [
    {
     "data": {
      "text/plain": [
       "['C1_XL', 'C2_S']"
      ]
     },
     "execution_count": 10,
     "metadata": {},
     "output_type": "execute_result"
    }
   ],
   "source": [
    "child_ids = [f\"{each['child_id']}_{each['child_size']}\" for each in children_records]\n",
    "child_ids"
   ]
  },
  {
   "cell_type": "code",
   "execution_count": 11,
   "id": "b71ec15d",
   "metadata": {},
   "outputs": [
    {
     "data": {
      "text/plain": [
       "['SU_A1_S_24', 'SU_A4_XL_15', 'SU_A5_XL_36', 'SU_A6_S_26']"
      ]
     },
     "execution_count": 11,
     "metadata": {},
     "output_type": "execute_result"
    }
   ],
   "source": [
    "summer_cloth_ids = [f'SU_{each[\"cloth_id\"]}_{each[\"cloth_size\"]}_{each[\"cloth_price\"]}' for each in clothes_records if each['cloth_season']=='summer']\n",
    "summer_cloth_ids"
   ]
  },
  {
   "cell_type": "code",
   "execution_count": 12,
   "id": "d6314316",
   "metadata": {},
   "outputs": [
    {
     "data": {
      "text/plain": [
       "['WI_A2_ALL_20', 'WI_A3_ALL_30']"
      ]
     },
     "execution_count": 12,
     "metadata": {},
     "output_type": "execute_result"
    }
   ],
   "source": [
    "winter_cloth_ids = [f'WI_{each[\"cloth_id\"]}_{each[\"cloth_size\"]}_{each[\"cloth_price\"]}' for each in clothes_records if each['cloth_season']=='winter']\n",
    "winter_cloth_ids"
   ]
  },
  {
   "cell_type": "code",
   "execution_count": 13,
   "id": "82fa7cfe",
   "metadata": {},
   "outputs": [
    {
     "data": {
      "text/html": [
       "<div>\n",
       "<style scoped>\n",
       "    .dataframe tbody tr th:only-of-type {\n",
       "        vertical-align: middle;\n",
       "    }\n",
       "\n",
       "    .dataframe tbody tr th {\n",
       "        vertical-align: top;\n",
       "    }\n",
       "\n",
       "    .dataframe thead th {\n",
       "        text-align: right;\n",
       "    }\n",
       "</style>\n",
       "<table border=\"1\" class=\"dataframe\">\n",
       "  <thead>\n",
       "    <tr style=\"text-align: right;\">\n",
       "      <th></th>\n",
       "      <th>SU_A1_S_24</th>\n",
       "      <th>SU_A4_XL_15</th>\n",
       "      <th>SU_A5_XL_36</th>\n",
       "      <th>SU_A6_S_26</th>\n",
       "    </tr>\n",
       "  </thead>\n",
       "  <tbody>\n",
       "    <tr>\n",
       "      <th>C1_XL</th>\n",
       "      <td>NaN</td>\n",
       "      <td>NaN</td>\n",
       "      <td>NaN</td>\n",
       "      <td>NaN</td>\n",
       "    </tr>\n",
       "    <tr>\n",
       "      <th>C2_S</th>\n",
       "      <td>NaN</td>\n",
       "      <td>NaN</td>\n",
       "      <td>NaN</td>\n",
       "      <td>NaN</td>\n",
       "    </tr>\n",
       "  </tbody>\n",
       "</table>\n",
       "</div>"
      ],
      "text/plain": [
       "      SU_A1_S_24 SU_A4_XL_15 SU_A5_XL_36 SU_A6_S_26\n",
       "C1_XL        NaN         NaN         NaN        NaN\n",
       "C2_S         NaN         NaN         NaN        NaN"
      ]
     },
     "execution_count": 13,
     "metadata": {},
     "output_type": "execute_result"
    }
   ],
   "source": [
    "summer_df = pd.DataFrame(index=child_ids, columns=summer_cloth_ids)\n",
    "summer_df"
   ]
  },
  {
   "cell_type": "code",
   "execution_count": 14,
   "id": "33a795d4",
   "metadata": {},
   "outputs": [
    {
     "data": {
      "text/html": [
       "<div>\n",
       "<style scoped>\n",
       "    .dataframe tbody tr th:only-of-type {\n",
       "        vertical-align: middle;\n",
       "    }\n",
       "\n",
       "    .dataframe tbody tr th {\n",
       "        vertical-align: top;\n",
       "    }\n",
       "\n",
       "    .dataframe thead th {\n",
       "        text-align: right;\n",
       "    }\n",
       "</style>\n",
       "<table border=\"1\" class=\"dataframe\">\n",
       "  <thead>\n",
       "    <tr style=\"text-align: right;\">\n",
       "      <th></th>\n",
       "      <th>WI_A2_ALL_20</th>\n",
       "      <th>WI_A3_ALL_30</th>\n",
       "    </tr>\n",
       "  </thead>\n",
       "  <tbody>\n",
       "    <tr>\n",
       "      <th>C1_XL</th>\n",
       "      <td>NaN</td>\n",
       "      <td>NaN</td>\n",
       "    </tr>\n",
       "    <tr>\n",
       "      <th>C2_S</th>\n",
       "      <td>NaN</td>\n",
       "      <td>NaN</td>\n",
       "    </tr>\n",
       "  </tbody>\n",
       "</table>\n",
       "</div>"
      ],
      "text/plain": [
       "      WI_A2_ALL_20 WI_A3_ALL_30\n",
       "C1_XL          NaN          NaN\n",
       "C2_S           NaN          NaN"
      ]
     },
     "execution_count": 14,
     "metadata": {},
     "output_type": "execute_result"
    }
   ],
   "source": [
    "winter_df = pd.DataFrame(index=child_ids, columns=winter_cloth_ids)\n",
    "winter_df"
   ]
  },
  {
   "cell_type": "code",
   "execution_count": 15,
   "id": "a885465a",
   "metadata": {},
   "outputs": [
    {
     "data": {
      "text/plain": [
       "(2, 4)"
      ]
     },
     "execution_count": 15,
     "metadata": {},
     "output_type": "execute_result"
    }
   ],
   "source": [
    "summer_df_i, summer_df_j = summer_df.shape\n",
    "summer_df_i, summer_df_j"
   ]
  },
  {
   "cell_type": "code",
   "execution_count": 16,
   "id": "d708aa9f",
   "metadata": {},
   "outputs": [
    {
     "name": "stdout",
     "output_type": "stream",
     "text": [
      "['SU_A1_S_24', 'SU_A4_XL_15', 'SU_A5_XL_36', 'SU_A6_S_26']\n",
      "['C1_XL', 'C2_S']\n"
     ]
    }
   ],
   "source": [
    "summer_df_cols = summer_df.columns.tolist()\n",
    "print(summer_df_cols)\n",
    "summer_df_indices = summer_df.index.tolist()\n",
    "print(summer_df_indices)"
   ]
  },
  {
   "cell_type": "code",
   "execution_count": 17,
   "id": "87e6b566",
   "metadata": {},
   "outputs": [],
   "source": [
    "for i in range(summer_df_i):\n",
    "    for j in range(summer_df_j):        \n",
    "        cl_size = summer_df_cols[j].split(\"_\")[2]\n",
    "        cl_price = summer_df_cols[j].split(\"_\")[3]\n",
    "        cd_size = summer_df_indices[i].split(\"_\")[1]\n",
    "        if cl_size == cd_size or cl_size == \"ALL\":\n",
    "            # assign this cloth to the child\n",
    "            summer_df.loc[summer_df_indices[i], summer_df_cols[j]] = cl_price\n",
    "                \n",
    "            "
   ]
  },
  {
   "cell_type": "code",
   "execution_count": 18,
   "id": "8952ed7d",
   "metadata": {},
   "outputs": [
    {
     "data": {
      "text/html": [
       "<div>\n",
       "<style scoped>\n",
       "    .dataframe tbody tr th:only-of-type {\n",
       "        vertical-align: middle;\n",
       "    }\n",
       "\n",
       "    .dataframe tbody tr th {\n",
       "        vertical-align: top;\n",
       "    }\n",
       "\n",
       "    .dataframe thead th {\n",
       "        text-align: right;\n",
       "    }\n",
       "</style>\n",
       "<table border=\"1\" class=\"dataframe\">\n",
       "  <thead>\n",
       "    <tr style=\"text-align: right;\">\n",
       "      <th></th>\n",
       "      <th>SU_A1_S_24</th>\n",
       "      <th>SU_A4_XL_15</th>\n",
       "      <th>SU_A5_XL_36</th>\n",
       "      <th>SU_A6_S_26</th>\n",
       "    </tr>\n",
       "  </thead>\n",
       "  <tbody>\n",
       "    <tr>\n",
       "      <th>C1_XL</th>\n",
       "      <td>NaN</td>\n",
       "      <td>15</td>\n",
       "      <td>36</td>\n",
       "      <td>NaN</td>\n",
       "    </tr>\n",
       "    <tr>\n",
       "      <th>C2_S</th>\n",
       "      <td>24</td>\n",
       "      <td>NaN</td>\n",
       "      <td>NaN</td>\n",
       "      <td>26</td>\n",
       "    </tr>\n",
       "  </tbody>\n",
       "</table>\n",
       "</div>"
      ],
      "text/plain": [
       "      SU_A1_S_24 SU_A4_XL_15 SU_A5_XL_36 SU_A6_S_26\n",
       "C1_XL        NaN          15          36        NaN\n",
       "C2_S          24         NaN         NaN         26"
      ]
     },
     "execution_count": 18,
     "metadata": {},
     "output_type": "execute_result"
    }
   ],
   "source": [
    "summer_df"
   ]
  },
  {
   "cell_type": "code",
   "execution_count": 19,
   "id": "469dc134",
   "metadata": {},
   "outputs": [
    {
     "data": {
      "text/plain": [
       "(2, 2)"
      ]
     },
     "execution_count": 19,
     "metadata": {},
     "output_type": "execute_result"
    }
   ],
   "source": [
    "winter_df_i, winter_df_j = winter_df.shape\n",
    "winter_df_i, winter_df_j"
   ]
  },
  {
   "cell_type": "code",
   "execution_count": 20,
   "id": "940728d6",
   "metadata": {},
   "outputs": [
    {
     "name": "stdout",
     "output_type": "stream",
     "text": [
      "['WI_A2_ALL_20', 'WI_A3_ALL_30']\n",
      "['C1_XL', 'C2_S']\n"
     ]
    }
   ],
   "source": [
    "winter_df_cols = winter_df.columns.tolist()\n",
    "print(winter_df_cols)\n",
    "winter_df_indices = winter_df.index.tolist()\n",
    "print(winter_df_indices)"
   ]
  },
  {
   "cell_type": "code",
   "execution_count": 21,
   "id": "de7028b9",
   "metadata": {},
   "outputs": [],
   "source": [
    "for i in range(winter_df_i):\n",
    "    for j in range(winter_df_j):\n",
    "        cl_size = winter_df_cols[j].split(\"_\")[2]\n",
    "        cl_price = winter_df_cols[j].split(\"_\")[3]\n",
    "        cd_size = winter_df_indices[i].split(\"_\")[1]\n",
    "        if cl_size == cd_size or cl_size == \"ALL\":\n",
    "            # assign this cloth to the child\n",
    "            winter_df.loc[winter_df_indices[i], winter_df_cols[j]] = cl_price"
   ]
  },
  {
   "cell_type": "code",
   "execution_count": 22,
   "id": "18f40bd9",
   "metadata": {},
   "outputs": [
    {
     "data": {
      "text/html": [
       "<div>\n",
       "<style scoped>\n",
       "    .dataframe tbody tr th:only-of-type {\n",
       "        vertical-align: middle;\n",
       "    }\n",
       "\n",
       "    .dataframe tbody tr th {\n",
       "        vertical-align: top;\n",
       "    }\n",
       "\n",
       "    .dataframe thead th {\n",
       "        text-align: right;\n",
       "    }\n",
       "</style>\n",
       "<table border=\"1\" class=\"dataframe\">\n",
       "  <thead>\n",
       "    <tr style=\"text-align: right;\">\n",
       "      <th></th>\n",
       "      <th>SU_A1_S_24</th>\n",
       "      <th>SU_A4_XL_15</th>\n",
       "      <th>SU_A5_XL_36</th>\n",
       "      <th>SU_A6_S_26</th>\n",
       "    </tr>\n",
       "  </thead>\n",
       "  <tbody>\n",
       "    <tr>\n",
       "      <th>C1_XL</th>\n",
       "      <td>NaN</td>\n",
       "      <td>15</td>\n",
       "      <td>36</td>\n",
       "      <td>NaN</td>\n",
       "    </tr>\n",
       "    <tr>\n",
       "      <th>C2_S</th>\n",
       "      <td>24</td>\n",
       "      <td>NaN</td>\n",
       "      <td>NaN</td>\n",
       "      <td>26</td>\n",
       "    </tr>\n",
       "  </tbody>\n",
       "</table>\n",
       "</div>"
      ],
      "text/plain": [
       "      SU_A1_S_24 SU_A4_XL_15 SU_A5_XL_36 SU_A6_S_26\n",
       "C1_XL        NaN          15          36        NaN\n",
       "C2_S          24         NaN         NaN         26"
      ]
     },
     "execution_count": 22,
     "metadata": {},
     "output_type": "execute_result"
    }
   ],
   "source": [
    "summer_df"
   ]
  },
  {
   "cell_type": "code",
   "execution_count": 23,
   "id": "35b190ca",
   "metadata": {},
   "outputs": [
    {
     "data": {
      "text/html": [
       "<div>\n",
       "<style scoped>\n",
       "    .dataframe tbody tr th:only-of-type {\n",
       "        vertical-align: middle;\n",
       "    }\n",
       "\n",
       "    .dataframe tbody tr th {\n",
       "        vertical-align: top;\n",
       "    }\n",
       "\n",
       "    .dataframe thead th {\n",
       "        text-align: right;\n",
       "    }\n",
       "</style>\n",
       "<table border=\"1\" class=\"dataframe\">\n",
       "  <thead>\n",
       "    <tr style=\"text-align: right;\">\n",
       "      <th></th>\n",
       "      <th>WI_A2_ALL_20</th>\n",
       "      <th>WI_A3_ALL_30</th>\n",
       "    </tr>\n",
       "  </thead>\n",
       "  <tbody>\n",
       "    <tr>\n",
       "      <th>C1_XL</th>\n",
       "      <td>20</td>\n",
       "      <td>30</td>\n",
       "    </tr>\n",
       "    <tr>\n",
       "      <th>C2_S</th>\n",
       "      <td>20</td>\n",
       "      <td>30</td>\n",
       "    </tr>\n",
       "  </tbody>\n",
       "</table>\n",
       "</div>"
      ],
      "text/plain": [
       "      WI_A2_ALL_20 WI_A3_ALL_30\n",
       "C1_XL           20           30\n",
       "C2_S            20           30"
      ]
     },
     "execution_count": 23,
     "metadata": {},
     "output_type": "execute_result"
    }
   ],
   "source": [
    "winter_df"
   ]
  },
  {
   "cell_type": "code",
   "execution_count": 24,
   "id": "608d1dca",
   "metadata": {},
   "outputs": [
    {
     "data": {
      "text/html": [
       "<div>\n",
       "<style scoped>\n",
       "    .dataframe tbody tr th:only-of-type {\n",
       "        vertical-align: middle;\n",
       "    }\n",
       "\n",
       "    .dataframe tbody tr th {\n",
       "        vertical-align: top;\n",
       "    }\n",
       "\n",
       "    .dataframe thead th {\n",
       "        text-align: right;\n",
       "    }\n",
       "</style>\n",
       "<table border=\"1\" class=\"dataframe\">\n",
       "  <thead>\n",
       "    <tr style=\"text-align: right;\">\n",
       "      <th></th>\n",
       "      <th>SU_A1_S_24</th>\n",
       "      <th>SU_A4_XL_15</th>\n",
       "      <th>SU_A5_XL_36</th>\n",
       "      <th>SU_A6_S_26</th>\n",
       "      <th>WI_A2_ALL_20</th>\n",
       "      <th>WI_A3_ALL_30</th>\n",
       "    </tr>\n",
       "  </thead>\n",
       "  <tbody>\n",
       "    <tr>\n",
       "      <th>C1_XL</th>\n",
       "      <td>NaN</td>\n",
       "      <td>15</td>\n",
       "      <td>36</td>\n",
       "      <td>NaN</td>\n",
       "      <td>20</td>\n",
       "      <td>30</td>\n",
       "    </tr>\n",
       "    <tr>\n",
       "      <th>C2_S</th>\n",
       "      <td>24</td>\n",
       "      <td>NaN</td>\n",
       "      <td>NaN</td>\n",
       "      <td>26</td>\n",
       "      <td>20</td>\n",
       "      <td>30</td>\n",
       "    </tr>\n",
       "  </tbody>\n",
       "</table>\n",
       "</div>"
      ],
      "text/plain": [
       "      SU_A1_S_24 SU_A4_XL_15 SU_A5_XL_36 SU_A6_S_26 WI_A2_ALL_20 WI_A3_ALL_30\n",
       "C1_XL        NaN          15          36        NaN           20           30\n",
       "C2_S          24         NaN         NaN         26           20           30"
      ]
     },
     "execution_count": 24,
     "metadata": {},
     "output_type": "execute_result"
    }
   ],
   "source": [
    "matrix_df = summer_df.join(winter_df)\n",
    "matrix_df"
   ]
  },
  {
   "cell_type": "markdown",
   "id": "9c8a3498",
   "metadata": {},
   "source": [
    "#### 4. Algorithm"
   ]
  },
  {
   "cell_type": "code",
   "execution_count": 25,
   "id": "5d452f8c",
   "metadata": {},
   "outputs": [],
   "source": [
    "import numpy as np"
   ]
  },
  {
   "cell_type": "code",
   "execution_count": 26,
   "id": "f36e30b8",
   "metadata": {},
   "outputs": [
    {
     "data": {
      "text/html": [
       "<div>\n",
       "<style scoped>\n",
       "    .dataframe tbody tr th:only-of-type {\n",
       "        vertical-align: middle;\n",
       "    }\n",
       "\n",
       "    .dataframe tbody tr th {\n",
       "        vertical-align: top;\n",
       "    }\n",
       "\n",
       "    .dataframe thead th {\n",
       "        text-align: right;\n",
       "    }\n",
       "</style>\n",
       "<table border=\"1\" class=\"dataframe\">\n",
       "  <thead>\n",
       "    <tr style=\"text-align: right;\">\n",
       "      <th></th>\n",
       "      <th>SU_A1_S_24</th>\n",
       "      <th>SU_A4_XL_15</th>\n",
       "      <th>SU_A5_XL_36</th>\n",
       "      <th>SU_A6_S_26</th>\n",
       "      <th>WI_A2_ALL_20</th>\n",
       "      <th>WI_A3_ALL_30</th>\n",
       "    </tr>\n",
       "  </thead>\n",
       "  <tbody>\n",
       "    <tr>\n",
       "      <th>C1_XL</th>\n",
       "      <td>NaN</td>\n",
       "      <td>15.0</td>\n",
       "      <td>36.0</td>\n",
       "      <td>NaN</td>\n",
       "      <td>20</td>\n",
       "      <td>30</td>\n",
       "    </tr>\n",
       "    <tr>\n",
       "      <th>C2_S</th>\n",
       "      <td>24.0</td>\n",
       "      <td>NaN</td>\n",
       "      <td>NaN</td>\n",
       "      <td>26.0</td>\n",
       "      <td>20</td>\n",
       "      <td>30</td>\n",
       "    </tr>\n",
       "  </tbody>\n",
       "</table>\n",
       "</div>"
      ],
      "text/plain": [
       "       SU_A1_S_24  SU_A4_XL_15  SU_A5_XL_36  SU_A6_S_26  WI_A2_ALL_20  \\\n",
       "C1_XL         NaN         15.0         36.0         NaN            20   \n",
       "C2_S         24.0          NaN          NaN        26.0            20   \n",
       "\n",
       "       WI_A3_ALL_30  \n",
       "C1_XL            30  \n",
       "C2_S             30  "
      ]
     },
     "execution_count": 26,
     "metadata": {},
     "output_type": "execute_result"
    }
   ],
   "source": [
    "matrix_df = matrix_df.apply(pd.to_numeric)\n",
    "matrix_df"
   ]
  },
  {
   "cell_type": "code",
   "execution_count": 27,
   "id": "40415017",
   "metadata": {},
   "outputs": [
    {
     "data": {
      "text/plain": [
       "array([[nan, 15., 36., nan, 20., 30.],\n",
       "       [24., nan, nan, 26., 20., 30.]])"
      ]
     },
     "execution_count": 27,
     "metadata": {},
     "output_type": "execute_result"
    }
   ],
   "source": [
    "matrix_df.to_numpy()"
   ]
  },
  {
   "cell_type": "code",
   "execution_count": 28,
   "id": "614fdc39",
   "metadata": {},
   "outputs": [
    {
     "data": {
      "text/html": [
       "<div>\n",
       "<style scoped>\n",
       "    .dataframe tbody tr th:only-of-type {\n",
       "        vertical-align: middle;\n",
       "    }\n",
       "\n",
       "    .dataframe tbody tr th {\n",
       "        vertical-align: top;\n",
       "    }\n",
       "\n",
       "    .dataframe thead th {\n",
       "        text-align: right;\n",
       "    }\n",
       "</style>\n",
       "<table border=\"1\" class=\"dataframe\">\n",
       "  <thead>\n",
       "    <tr style=\"text-align: right;\">\n",
       "      <th></th>\n",
       "      <th>SU_A1_S_24</th>\n",
       "      <th>SU_A4_XL_15</th>\n",
       "      <th>SU_A5_XL_36</th>\n",
       "      <th>SU_A6_S_26</th>\n",
       "      <th>WI_A2_ALL_20</th>\n",
       "      <th>WI_A3_ALL_30</th>\n",
       "    </tr>\n",
       "  </thead>\n",
       "  <tbody>\n",
       "    <tr>\n",
       "      <th>C1_XL</th>\n",
       "      <td>NaN</td>\n",
       "      <td>-60.5</td>\n",
       "      <td>-39.5</td>\n",
       "      <td>NaN</td>\n",
       "      <td>-55.5</td>\n",
       "      <td>-45.5</td>\n",
       "    </tr>\n",
       "    <tr>\n",
       "      <th>C2_S</th>\n",
       "      <td>-51.5</td>\n",
       "      <td>NaN</td>\n",
       "      <td>NaN</td>\n",
       "      <td>-49.5</td>\n",
       "      <td>-55.5</td>\n",
       "      <td>-45.5</td>\n",
       "    </tr>\n",
       "  </tbody>\n",
       "</table>\n",
       "</div>"
      ],
      "text/plain": [
       "       SU_A1_S_24  SU_A4_XL_15  SU_A5_XL_36  SU_A6_S_26  WI_A2_ALL_20  \\\n",
       "C1_XL         NaN        -60.5        -39.5         NaN         -55.5   \n",
       "C2_S        -51.5          NaN          NaN       -49.5         -55.5   \n",
       "\n",
       "       WI_A3_ALL_30  \n",
       "C1_XL         -45.5  \n",
       "C2_S          -45.5  "
      ]
     },
     "execution_count": 28,
     "metadata": {},
     "output_type": "execute_result"
    }
   ],
   "source": [
    "matrix_df_with_fair_cost = matrix_df - r_by_n_ratio\n",
    "matrix_df_with_fair_cost # let us get back to this"
   ]
  },
  {
   "cell_type": "code",
   "execution_count": 29,
   "id": "bb673e7d",
   "metadata": {},
   "outputs": [
    {
     "data": {
      "text/html": [
       "<div>\n",
       "<style scoped>\n",
       "    .dataframe tbody tr th:only-of-type {\n",
       "        vertical-align: middle;\n",
       "    }\n",
       "\n",
       "    .dataframe tbody tr th {\n",
       "        vertical-align: top;\n",
       "    }\n",
       "\n",
       "    .dataframe thead th {\n",
       "        text-align: right;\n",
       "    }\n",
       "</style>\n",
       "<table border=\"1\" class=\"dataframe\">\n",
       "  <thead>\n",
       "    <tr style=\"text-align: right;\">\n",
       "      <th></th>\n",
       "      <th>SU_A1_S_24</th>\n",
       "      <th>SU_A4_XL_15</th>\n",
       "      <th>SU_A5_XL_36</th>\n",
       "      <th>SU_A6_S_26</th>\n",
       "      <th>WI_A2_ALL_20</th>\n",
       "      <th>WI_A3_ALL_30</th>\n",
       "    </tr>\n",
       "  </thead>\n",
       "  <tbody>\n",
       "    <tr>\n",
       "      <th>C1_XL</th>\n",
       "      <td>-1.0</td>\n",
       "      <td>15.0</td>\n",
       "      <td>36.0</td>\n",
       "      <td>-1.0</td>\n",
       "      <td>20</td>\n",
       "      <td>30</td>\n",
       "    </tr>\n",
       "    <tr>\n",
       "      <th>C2_S</th>\n",
       "      <td>24.0</td>\n",
       "      <td>-1.0</td>\n",
       "      <td>-1.0</td>\n",
       "      <td>26.0</td>\n",
       "      <td>20</td>\n",
       "      <td>30</td>\n",
       "    </tr>\n",
       "  </tbody>\n",
       "</table>\n",
       "</div>"
      ],
      "text/plain": [
       "       SU_A1_S_24  SU_A4_XL_15  SU_A5_XL_36  SU_A6_S_26  WI_A2_ALL_20  \\\n",
       "C1_XL        -1.0         15.0         36.0        -1.0            20   \n",
       "C2_S         24.0         -1.0         -1.0        26.0            20   \n",
       "\n",
       "       WI_A3_ALL_30  \n",
       "C1_XL            30  \n",
       "C2_S             30  "
      ]
     },
     "execution_count": 29,
     "metadata": {},
     "output_type": "execute_result"
    }
   ],
   "source": [
    "matrix_df.fillna(-1, inplace=True)\n",
    "matrix_df"
   ]
  },
  {
   "cell_type": "code",
   "execution_count": 30,
   "id": "28decc58",
   "metadata": {},
   "outputs": [],
   "source": [
    "def create_and_get_path():\n",
    "    path = {}\n",
    "    for child_record in children_records:\n",
    "        path[child_record['child_id']] = {'summer_clothes': [], 'winter_clothes': [], 'ci': 0,\n",
    "                                         'summer_winter_constraint': False}\n",
    "    return path"
   ]
  },
  {
   "cell_type": "code",
   "execution_count": 31,
   "id": "c92f57bd",
   "metadata": {},
   "outputs": [
    {
     "data": {
      "text/plain": [
       "(2, 6)"
      ]
     },
     "execution_count": 31,
     "metadata": {},
     "output_type": "execute_result"
    }
   ],
   "source": [
    "matrix_df_i, matrix_df_j = matrix_df.shape\n",
    "matrix_df_i, matrix_df_j "
   ]
  },
  {
   "cell_type": "code",
   "execution_count": 32,
   "id": "4cfdeef5",
   "metadata": {},
   "outputs": [],
   "source": [
    "matrix_df_indices = matrix_df.index.tolist()\n",
    "matrix_df_cols = matrix_df.columns.tolist()"
   ]
  },
  {
   "cell_type": "code",
   "execution_count": 33,
   "id": "69f0a975",
   "metadata": {},
   "outputs": [
    {
     "data": {
      "text/plain": [
       "['C1_XL', 'C2_S']"
      ]
     },
     "execution_count": 33,
     "metadata": {},
     "output_type": "execute_result"
    }
   ],
   "source": [
    "matrix_df_indices"
   ]
  },
  {
   "cell_type": "code",
   "execution_count": 34,
   "id": "1548556c",
   "metadata": {},
   "outputs": [
    {
     "data": {
      "text/plain": [
       "['SU_A1_S_24',\n",
       " 'SU_A4_XL_15',\n",
       " 'SU_A5_XL_36',\n",
       " 'SU_A6_S_26',\n",
       " 'WI_A2_ALL_20',\n",
       " 'WI_A3_ALL_30']"
      ]
     },
     "execution_count": 34,
     "metadata": {},
     "output_type": "execute_result"
    }
   ],
   "source": [
    "matrix_df_cols"
   ]
  },
  {
   "cell_type": "code",
   "execution_count": 35,
   "id": "99610354",
   "metadata": {},
   "outputs": [
    {
     "data": {
      "text/plain": [
       "26.0"
      ]
     },
     "execution_count": 35,
     "metadata": {},
     "output_type": "execute_result"
    }
   ],
   "source": [
    "matrix_df.loc[matrix_df_indices[1],matrix_df_cols[3]]"
   ]
  },
  {
   "cell_type": "code",
   "execution_count": 36,
   "id": "b1c2d7c2",
   "metadata": {},
   "outputs": [
    {
     "data": {
      "text/html": [
       "<div>\n",
       "<style scoped>\n",
       "    .dataframe tbody tr th:only-of-type {\n",
       "        vertical-align: middle;\n",
       "    }\n",
       "\n",
       "    .dataframe tbody tr th {\n",
       "        vertical-align: top;\n",
       "    }\n",
       "\n",
       "    .dataframe thead th {\n",
       "        text-align: right;\n",
       "    }\n",
       "</style>\n",
       "<table border=\"1\" class=\"dataframe\">\n",
       "  <thead>\n",
       "    <tr style=\"text-align: right;\">\n",
       "      <th></th>\n",
       "      <th>SU_A1_S_24</th>\n",
       "      <th>SU_A4_XL_15</th>\n",
       "      <th>SU_A5_XL_36</th>\n",
       "      <th>SU_A6_S_26</th>\n",
       "      <th>WI_A2_ALL_20</th>\n",
       "      <th>WI_A3_ALL_30</th>\n",
       "    </tr>\n",
       "  </thead>\n",
       "  <tbody>\n",
       "    <tr>\n",
       "      <th>C1_XL</th>\n",
       "      <td>-1.0</td>\n",
       "      <td>15.0</td>\n",
       "      <td>36.0</td>\n",
       "      <td>-1.0</td>\n",
       "      <td>20</td>\n",
       "      <td>30</td>\n",
       "    </tr>\n",
       "    <tr>\n",
       "      <th>C2_S</th>\n",
       "      <td>24.0</td>\n",
       "      <td>-1.0</td>\n",
       "      <td>-1.0</td>\n",
       "      <td>26.0</td>\n",
       "      <td>20</td>\n",
       "      <td>30</td>\n",
       "    </tr>\n",
       "  </tbody>\n",
       "</table>\n",
       "</div>"
      ],
      "text/plain": [
       "       SU_A1_S_24  SU_A4_XL_15  SU_A5_XL_36  SU_A6_S_26  WI_A2_ALL_20  \\\n",
       "C1_XL        -1.0         15.0         36.0        -1.0            20   \n",
       "C2_S         24.0         -1.0         -1.0        26.0            20   \n",
       "\n",
       "       WI_A3_ALL_30  \n",
       "C1_XL            30  \n",
       "C2_S             30  "
      ]
     },
     "execution_count": 36,
     "metadata": {},
     "output_type": "execute_result"
    }
   ],
   "source": [
    "matrix_df"
   ]
  },
  {
   "cell_type": "code",
   "execution_count": 37,
   "id": "c7a82452",
   "metadata": {},
   "outputs": [],
   "source": [
    "matrix_df = matrix_df.fillna(-1)"
   ]
  },
  {
   "cell_type": "code",
   "execution_count": 38,
   "id": "4badf36e",
   "metadata": {},
   "outputs": [
    {
     "data": {
      "text/html": [
       "<div>\n",
       "<style scoped>\n",
       "    .dataframe tbody tr th:only-of-type {\n",
       "        vertical-align: middle;\n",
       "    }\n",
       "\n",
       "    .dataframe tbody tr th {\n",
       "        vertical-align: top;\n",
       "    }\n",
       "\n",
       "    .dataframe thead th {\n",
       "        text-align: right;\n",
       "    }\n",
       "</style>\n",
       "<table border=\"1\" class=\"dataframe\">\n",
       "  <thead>\n",
       "    <tr style=\"text-align: right;\">\n",
       "      <th></th>\n",
       "      <th>SU_A1_S_24</th>\n",
       "      <th>SU_A4_XL_15</th>\n",
       "      <th>SU_A5_XL_36</th>\n",
       "      <th>SU_A6_S_26</th>\n",
       "      <th>WI_A2_ALL_20</th>\n",
       "      <th>WI_A3_ALL_30</th>\n",
       "    </tr>\n",
       "  </thead>\n",
       "  <tbody>\n",
       "    <tr>\n",
       "      <th>C1_XL</th>\n",
       "      <td>-1.0</td>\n",
       "      <td>15.0</td>\n",
       "      <td>36.0</td>\n",
       "      <td>-1.0</td>\n",
       "      <td>20</td>\n",
       "      <td>30</td>\n",
       "    </tr>\n",
       "    <tr>\n",
       "      <th>C2_S</th>\n",
       "      <td>24.0</td>\n",
       "      <td>-1.0</td>\n",
       "      <td>-1.0</td>\n",
       "      <td>26.0</td>\n",
       "      <td>20</td>\n",
       "      <td>30</td>\n",
       "    </tr>\n",
       "  </tbody>\n",
       "</table>\n",
       "</div>"
      ],
      "text/plain": [
       "       SU_A1_S_24  SU_A4_XL_15  SU_A5_XL_36  SU_A6_S_26  WI_A2_ALL_20  \\\n",
       "C1_XL        -1.0         15.0         36.0        -1.0            20   \n",
       "C2_S         24.0         -1.0         -1.0        26.0            20   \n",
       "\n",
       "       WI_A3_ALL_30  \n",
       "C1_XL            30  \n",
       "C2_S             30  "
      ]
     },
     "execution_count": 38,
     "metadata": {},
     "output_type": "execute_result"
    }
   ],
   "source": [
    "matrix_df"
   ]
  },
  {
   "cell_type": "code",
   "execution_count": 41,
   "id": "797ae3e8",
   "metadata": {},
   "outputs": [
    {
     "name": "stdout",
     "output_type": "stream",
     "text": [
      "[(1, 0), (0, 1), (0, 2), (1, 3), (1, 4), (1, 5)]\n",
      "D:  49.0\n",
      "[(1, 0), (0, 1), (0, 2), (1, 3), (1, 4), (0, 5)]\n",
      "D:  11.0\n",
      "[(1, 0), (0, 1), (0, 2), (1, 3), (0, 4), (0, 5)]\n",
      "D:  51.0\n",
      "[(1, 0), (0, 1), (0, 2), (1, 3), (0, 4), (1, 5)]\n",
      "D:  9.0\n",
      "9.0\n",
      "Optimal Minimum:  9.0\n"
     ]
    }
   ],
   "source": [
    "import copy\n",
    "class Executor:\n",
    "    \n",
    "    def __init__(self):\n",
    "        self.optimal_min = 99999999\n",
    "    def print_all_paths_helper(self, matrix_df, i, j, m, n, structure_of_path, seen):\n",
    "        #print(i, j)\n",
    "        if i < 0:\n",
    "            return\n",
    "        if i > m - 1:\n",
    "            #print(\"YES\")\n",
    "            return\n",
    "\n",
    "        if j > n - 1:\n",
    "            seen_str = \"\"\n",
    "            for each in structure_of_path:\n",
    "                seen_str += f\"{each[0]}{each[1]}\"\n",
    "            if seen_str not in seen:\n",
    "                print(structure_of_path)\n",
    "                D = 0\n",
    "                for cd_ix in range(matrix_df_i):\n",
    "                    c_i = 0\n",
    "                    for (pi, pj) in structure_of_path:\n",
    "                        if pi == cd_ix:\n",
    "                            \n",
    "                            c_i += matrix_df.loc[matrix_df_indices[pi],\n",
    "                                                               matrix_df_cols[pj]]\n",
    "                                \n",
    "                    D += abs(r_by_n_ratio - c_i)\n",
    "                seen.append(seen_str)\n",
    "                print(\"D: \", D)\n",
    "                if D < self.optimal_min:\n",
    "                    self.optimal_min = D\n",
    "\n",
    "            return\n",
    "        if j < 0:\n",
    "            return\n",
    "        if matrix_df.loc[matrix_df_indices[i],matrix_df_cols[j]] < 0:\n",
    "            # not eligible\n",
    "            return\n",
    "        new_path_struct = copy.deepcopy(structure_of_path) # [0,0]\n",
    "        new_path_struct.append((i, j))\n",
    "        # i exploration\n",
    "        for ix in range(matrix_df_i):\n",
    "            ### MAIN RECURSION HAPPENS HERE\n",
    "            self.print_all_paths_helper(matrix_df, i + ix, j + 1 , m, n, new_path_struct, seen)\n",
    "            self.print_all_paths_helper(matrix_df, i - ix - 1, j + 1 , m, n, new_path_struct, seen)\n",
    "\n",
    "\n",
    "        new_path_struct = []\n",
    "\n",
    "    def print_all_paths(self, matrix_df, matrix_df_i, matrix_df_j):\n",
    "        for idx in range(matrix_df_i):\n",
    "            path_struct = []\n",
    "            seen = []\n",
    "            self.print_all_paths_helper(matrix_df, idx, 0, matrix_df_i, matrix_df_j, path_struct, seen)\n",
    "        print(self.optimal_min)\n",
    "exec_obj = Executor()\n",
    "exec_obj.print_all_paths(matrix_df, matrix_df_i, matrix_df_j)\n",
    "print(\"Optimal Minimum: \" , exec_obj.optimal_min)"
   ]
  },
  {
   "cell_type": "code",
   "execution_count": 40,
   "id": "e737fc33",
   "metadata": {},
   "outputs": [
    {
     "data": {
      "text/html": [
       "<div>\n",
       "<style scoped>\n",
       "    .dataframe tbody tr th:only-of-type {\n",
       "        vertical-align: middle;\n",
       "    }\n",
       "\n",
       "    .dataframe tbody tr th {\n",
       "        vertical-align: top;\n",
       "    }\n",
       "\n",
       "    .dataframe thead th {\n",
       "        text-align: right;\n",
       "    }\n",
       "</style>\n",
       "<table border=\"1\" class=\"dataframe\">\n",
       "  <thead>\n",
       "    <tr style=\"text-align: right;\">\n",
       "      <th></th>\n",
       "      <th>SU_A1_S_24</th>\n",
       "      <th>SU_A4_XL_15</th>\n",
       "      <th>SU_A5_XL_36</th>\n",
       "      <th>SU_A6_S_26</th>\n",
       "      <th>WI_A2_ALL_20</th>\n",
       "      <th>WI_A3_ALL_30</th>\n",
       "    </tr>\n",
       "  </thead>\n",
       "  <tbody>\n",
       "    <tr>\n",
       "      <th>C1_XL</th>\n",
       "      <td>-1.0</td>\n",
       "      <td>15.0</td>\n",
       "      <td>36.0</td>\n",
       "      <td>-1.0</td>\n",
       "      <td>20</td>\n",
       "      <td>30</td>\n",
       "    </tr>\n",
       "    <tr>\n",
       "      <th>C2_S</th>\n",
       "      <td>24.0</td>\n",
       "      <td>-1.0</td>\n",
       "      <td>-1.0</td>\n",
       "      <td>26.0</td>\n",
       "      <td>20</td>\n",
       "      <td>30</td>\n",
       "    </tr>\n",
       "  </tbody>\n",
       "</table>\n",
       "</div>"
      ],
      "text/plain": [
       "       SU_A1_S_24  SU_A4_XL_15  SU_A5_XL_36  SU_A6_S_26  WI_A2_ALL_20  \\\n",
       "C1_XL        -1.0         15.0         36.0        -1.0            20   \n",
       "C2_S         24.0         -1.0         -1.0        26.0            20   \n",
       "\n",
       "       WI_A3_ALL_30  \n",
       "C1_XL            30  \n",
       "C2_S             30  "
      ]
     },
     "execution_count": 40,
     "metadata": {},
     "output_type": "execute_result"
    }
   ],
   "source": [
    "matrix_df"
   ]
  },
  {
   "cell_type": "code",
   "execution_count": null,
   "id": "9c3ea577",
   "metadata": {},
   "outputs": [],
   "source": []
  }
 ],
 "metadata": {
  "kernelspec": {
   "display_name": "Python 3",
   "language": "python",
   "name": "python3"
  },
  "language_info": {
   "codemirror_mode": {
    "name": "ipython",
    "version": 3
   },
   "file_extension": ".py",
   "mimetype": "text/x-python",
   "name": "python",
   "nbconvert_exporter": "python",
   "pygments_lexer": "ipython3",
   "version": "3.8.8"
  }
 },
 "nbformat": 4,
 "nbformat_minor": 5
}
