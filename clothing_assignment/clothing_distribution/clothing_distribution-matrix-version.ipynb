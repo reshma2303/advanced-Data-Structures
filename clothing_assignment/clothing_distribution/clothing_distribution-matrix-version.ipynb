{
 "cells": [
  {
   "cell_type": "markdown",
   "id": "bfefa205",
   "metadata": {},
   "source": [
    "\"\"\"\n",
    "\n",
    "Constraints:\n",
    "Each clothing item is given to exactly one child\n",
    "Clothing size must match the chosen child’s size\n",
    "Each child receives at least one summer item and one winter item\n",
    "\n",
    "\n",
    "Objective:\n",
    "◦ Let R = the sum of the retail prices for all of the clothing\n",
    "◦ Let N = the number of children\n",
    "◦ R/N = the fair share for each child\n",
    "◦ Let Ci = the sum of the clothing prices for child i\n",
    "◦ | R/N - Ci | = the amount over/under that child i received\n",
    "◦ Your project code must compute a distribution that will provide the absolute minimum value for\n",
    "D, where D is:\n",
    "\n",
    "\n",
    "Signed Academic Integrity statement must be submitted\n",
    "\n",
    "\n",
    "Your goal is to distribute them as fairly as possible, while ensuring that the clothes fit and that\n",
    "each child gets at least one summer item and one winter item.\n",
    "\"\"\""
   ]
  },
  {
   "cell_type": "code",
   "execution_count": 328,
   "id": "978cd3d9",
   "metadata": {},
   "outputs": [],
   "source": [
    "fname = \"example_input/ex1_2children_4clothes.txt\""
   ]
  },
  {
   "cell_type": "markdown",
   "id": "108954f9",
   "metadata": {},
   "source": [
    "#### 1. Load and Prepare data"
   ]
  },
  {
   "cell_type": "code",
   "execution_count": 329,
   "id": "d55e6105",
   "metadata": {},
   "outputs": [],
   "source": [
    "with open(fname) as f:\n",
    "    flines = f.readlines()\n",
    "    clothes_records  = []\n",
    "    children_records = []\n",
    "    for fline in flines:\n",
    "        if 'Clothes' in fline or 'Children' in fline:\n",
    "            continue\n",
    "        else:\n",
    "            if fline[0] == 'A':\n",
    "                cloth_record = fline.split(\"\\t\")\n",
    "                clothes_records.append({\n",
    "                                               'cloth_id': cloth_record[0],\n",
    "                                               'cloth_size': cloth_record[1],\n",
    "                                               'cloth_season': cloth_record[2],\n",
    "                                               'cloth_price': cloth_record[3].strip()\n",
    "                                       }\n",
    "                                      )\n",
    "            else:\n",
    "                children_record = fline.split(\"\\t\")\n",
    "                children_records.append(\n",
    "                    {\n",
    "                        'child_id': children_record[0],\n",
    "                        'child_size': children_record[1].strip(),\n",
    "                        'summer_clothes': [],\n",
    "                        'winter_clothes': []\n",
    "                    }\n",
    "                )"
   ]
  },
  {
   "cell_type": "code",
   "execution_count": 330,
   "id": "7c13721b",
   "metadata": {},
   "outputs": [],
   "source": [
    "import pandas as pd"
   ]
  },
  {
   "cell_type": "code",
   "execution_count": 331,
   "id": "3e525f2b",
   "metadata": {},
   "outputs": [
    {
     "data": {
      "text/html": [
       "<div>\n",
       "<style scoped>\n",
       "    .dataframe tbody tr th:only-of-type {\n",
       "        vertical-align: middle;\n",
       "    }\n",
       "\n",
       "    .dataframe tbody tr th {\n",
       "        vertical-align: top;\n",
       "    }\n",
       "\n",
       "    .dataframe thead th {\n",
       "        text-align: right;\n",
       "    }\n",
       "</style>\n",
       "<table border=\"1\" class=\"dataframe\">\n",
       "  <thead>\n",
       "    <tr style=\"text-align: right;\">\n",
       "      <th></th>\n",
       "      <th>cloth_id</th>\n",
       "      <th>cloth_size</th>\n",
       "      <th>cloth_season</th>\n",
       "      <th>cloth_price</th>\n",
       "    </tr>\n",
       "  </thead>\n",
       "  <tbody>\n",
       "    <tr>\n",
       "      <th>0</th>\n",
       "      <td>A1</td>\n",
       "      <td>XL</td>\n",
       "      <td>summer</td>\n",
       "      <td>31</td>\n",
       "    </tr>\n",
       "    <tr>\n",
       "      <th>1</th>\n",
       "      <td>A2</td>\n",
       "      <td>XL</td>\n",
       "      <td>winter</td>\n",
       "      <td>24</td>\n",
       "    </tr>\n",
       "    <tr>\n",
       "      <th>2</th>\n",
       "      <td>A3</td>\n",
       "      <td>L</td>\n",
       "      <td>summer</td>\n",
       "      <td>21</td>\n",
       "    </tr>\n",
       "    <tr>\n",
       "      <th>3</th>\n",
       "      <td>A4</td>\n",
       "      <td>ALL</td>\n",
       "      <td>winter</td>\n",
       "      <td>18</td>\n",
       "    </tr>\n",
       "  </tbody>\n",
       "</table>\n",
       "</div>"
      ],
      "text/plain": [
       "  cloth_id cloth_size cloth_season cloth_price\n",
       "0       A1         XL       summer          31\n",
       "1       A2         XL       winter          24\n",
       "2       A3          L       summer          21\n",
       "3       A4        ALL       winter          18"
      ]
     },
     "execution_count": 331,
     "metadata": {},
     "output_type": "execute_result"
    }
   ],
   "source": [
    "pd.DataFrame(clothes_records)"
   ]
  },
  {
   "cell_type": "code",
   "execution_count": 332,
   "id": "8f5db78e",
   "metadata": {},
   "outputs": [
    {
     "data": {
      "text/html": [
       "<div>\n",
       "<style scoped>\n",
       "    .dataframe tbody tr th:only-of-type {\n",
       "        vertical-align: middle;\n",
       "    }\n",
       "\n",
       "    .dataframe tbody tr th {\n",
       "        vertical-align: top;\n",
       "    }\n",
       "\n",
       "    .dataframe thead th {\n",
       "        text-align: right;\n",
       "    }\n",
       "</style>\n",
       "<table border=\"1\" class=\"dataframe\">\n",
       "  <thead>\n",
       "    <tr style=\"text-align: right;\">\n",
       "      <th></th>\n",
       "      <th>child_id</th>\n",
       "      <th>child_size</th>\n",
       "      <th>summer_clothes</th>\n",
       "      <th>winter_clothes</th>\n",
       "    </tr>\n",
       "  </thead>\n",
       "  <tbody>\n",
       "    <tr>\n",
       "      <th>0</th>\n",
       "      <td>C1</td>\n",
       "      <td>XL</td>\n",
       "      <td>[]</td>\n",
       "      <td>[]</td>\n",
       "    </tr>\n",
       "    <tr>\n",
       "      <th>1</th>\n",
       "      <td>C2</td>\n",
       "      <td>L</td>\n",
       "      <td>[]</td>\n",
       "      <td>[]</td>\n",
       "    </tr>\n",
       "  </tbody>\n",
       "</table>\n",
       "</div>"
      ],
      "text/plain": [
       "  child_id child_size summer_clothes winter_clothes\n",
       "0       C1         XL             []             []\n",
       "1       C2          L             []             []"
      ]
     },
     "execution_count": 332,
     "metadata": {},
     "output_type": "execute_result"
    }
   ],
   "source": [
    "pd.DataFrame(children_records)"
   ]
  },
  {
   "cell_type": "markdown",
   "id": "2744720b",
   "metadata": {},
   "source": [
    "#### 2. Compute all static variables before starting the optimization algorithm"
   ]
  },
  {
   "cell_type": "code",
   "execution_count": 333,
   "id": "235af4b4",
   "metadata": {},
   "outputs": [
    {
     "data": {
      "text/plain": [
       "2"
      ]
     },
     "execution_count": 333,
     "metadata": {},
     "output_type": "execute_result"
    }
   ],
   "source": [
    "N = len(children_records) # the number of children\n",
    "N"
   ]
  },
  {
   "cell_type": "code",
   "execution_count": 334,
   "id": "7833011b",
   "metadata": {},
   "outputs": [
    {
     "data": {
      "text/plain": [
       "94.0"
      ]
     },
     "execution_count": 334,
     "metadata": {},
     "output_type": "execute_result"
    }
   ],
   "source": [
    "# R = the sum of the retail prices for all of the clothing\n",
    "R = 0\n",
    "for cloth_record in clothes_records:\n",
    "    R += float(cloth_record['cloth_price'])\n",
    "R"
   ]
  },
  {
   "cell_type": "code",
   "execution_count": 335,
   "id": "91c5f6d8",
   "metadata": {},
   "outputs": [
    {
     "data": {
      "text/plain": [
       "47.0"
      ]
     },
     "execution_count": 335,
     "metadata": {},
     "output_type": "execute_result"
    }
   ],
   "source": [
    "## R/N = the fair share for each child\n",
    "r_by_n_ratio = R/N\n",
    "r_by_n_ratio"
   ]
  },
  {
   "cell_type": "markdown",
   "id": "136b5995",
   "metadata": {},
   "source": [
    "#### 3. Matrix preparation"
   ]
  },
  {
   "cell_type": "code",
   "execution_count": 336,
   "id": "360bbd9b",
   "metadata": {},
   "outputs": [
    {
     "data": {
      "text/plain": [
       "(4, 2)"
      ]
     },
     "execution_count": 336,
     "metadata": {},
     "output_type": "execute_result"
    }
   ],
   "source": [
    "len(clothes_records), len(children_records)"
   ]
  },
  {
   "cell_type": "code",
   "execution_count": 337,
   "id": "ab7acf7e",
   "metadata": {},
   "outputs": [
    {
     "data": {
      "text/plain": [
       "['C1_XL', 'C2_L']"
      ]
     },
     "execution_count": 337,
     "metadata": {},
     "output_type": "execute_result"
    }
   ],
   "source": [
    "child_ids = [f\"{each['child_id']}_{each['child_size']}\" for each in children_records]\n",
    "child_ids"
   ]
  },
  {
   "cell_type": "code",
   "execution_count": 338,
   "id": "6bb7f78b",
   "metadata": {},
   "outputs": [
    {
     "data": {
      "text/plain": [
       "['SU_A1_XL_31', 'SU_A3_L_21']"
      ]
     },
     "execution_count": 338,
     "metadata": {},
     "output_type": "execute_result"
    }
   ],
   "source": [
    "summer_cloth_ids = [f'SU_{each[\"cloth_id\"]}_{each[\"cloth_size\"]}_{each[\"cloth_price\"]}' for each in clothes_records if each['cloth_season']=='summer']\n",
    "summer_cloth_ids"
   ]
  },
  {
   "cell_type": "code",
   "execution_count": 339,
   "id": "6048b859",
   "metadata": {},
   "outputs": [
    {
     "data": {
      "text/plain": [
       "['WI_A2_XL_24', 'WI_A4_ALL_18']"
      ]
     },
     "execution_count": 339,
     "metadata": {},
     "output_type": "execute_result"
    }
   ],
   "source": [
    "winter_cloth_ids = [f'WI_{each[\"cloth_id\"]}_{each[\"cloth_size\"]}_{each[\"cloth_price\"]}' for each in clothes_records if each['cloth_season']=='winter']\n",
    "winter_cloth_ids"
   ]
  },
  {
   "cell_type": "code",
   "execution_count": 340,
   "id": "f289ab89",
   "metadata": {},
   "outputs": [
    {
     "data": {
      "text/html": [
       "<div>\n",
       "<style scoped>\n",
       "    .dataframe tbody tr th:only-of-type {\n",
       "        vertical-align: middle;\n",
       "    }\n",
       "\n",
       "    .dataframe tbody tr th {\n",
       "        vertical-align: top;\n",
       "    }\n",
       "\n",
       "    .dataframe thead th {\n",
       "        text-align: right;\n",
       "    }\n",
       "</style>\n",
       "<table border=\"1\" class=\"dataframe\">\n",
       "  <thead>\n",
       "    <tr style=\"text-align: right;\">\n",
       "      <th></th>\n",
       "      <th>SU_A1_XL_31</th>\n",
       "      <th>SU_A3_L_21</th>\n",
       "    </tr>\n",
       "  </thead>\n",
       "  <tbody>\n",
       "    <tr>\n",
       "      <th>C1_XL</th>\n",
       "      <td>NaN</td>\n",
       "      <td>NaN</td>\n",
       "    </tr>\n",
       "    <tr>\n",
       "      <th>C2_L</th>\n",
       "      <td>NaN</td>\n",
       "      <td>NaN</td>\n",
       "    </tr>\n",
       "  </tbody>\n",
       "</table>\n",
       "</div>"
      ],
      "text/plain": [
       "      SU_A1_XL_31 SU_A3_L_21\n",
       "C1_XL         NaN        NaN\n",
       "C2_L          NaN        NaN"
      ]
     },
     "execution_count": 340,
     "metadata": {},
     "output_type": "execute_result"
    }
   ],
   "source": [
    "summer_df = pd.DataFrame(index=child_ids, columns=summer_cloth_ids)\n",
    "summer_df"
   ]
  },
  {
   "cell_type": "code",
   "execution_count": 341,
   "id": "c063e41d",
   "metadata": {},
   "outputs": [
    {
     "data": {
      "text/html": [
       "<div>\n",
       "<style scoped>\n",
       "    .dataframe tbody tr th:only-of-type {\n",
       "        vertical-align: middle;\n",
       "    }\n",
       "\n",
       "    .dataframe tbody tr th {\n",
       "        vertical-align: top;\n",
       "    }\n",
       "\n",
       "    .dataframe thead th {\n",
       "        text-align: right;\n",
       "    }\n",
       "</style>\n",
       "<table border=\"1\" class=\"dataframe\">\n",
       "  <thead>\n",
       "    <tr style=\"text-align: right;\">\n",
       "      <th></th>\n",
       "      <th>WI_A2_XL_24</th>\n",
       "      <th>WI_A4_ALL_18</th>\n",
       "    </tr>\n",
       "  </thead>\n",
       "  <tbody>\n",
       "    <tr>\n",
       "      <th>C1_XL</th>\n",
       "      <td>NaN</td>\n",
       "      <td>NaN</td>\n",
       "    </tr>\n",
       "    <tr>\n",
       "      <th>C2_L</th>\n",
       "      <td>NaN</td>\n",
       "      <td>NaN</td>\n",
       "    </tr>\n",
       "  </tbody>\n",
       "</table>\n",
       "</div>"
      ],
      "text/plain": [
       "      WI_A2_XL_24 WI_A4_ALL_18\n",
       "C1_XL         NaN          NaN\n",
       "C2_L          NaN          NaN"
      ]
     },
     "execution_count": 341,
     "metadata": {},
     "output_type": "execute_result"
    }
   ],
   "source": [
    "winter_df = pd.DataFrame(index=child_ids, columns=winter_cloth_ids)\n",
    "winter_df"
   ]
  },
  {
   "cell_type": "code",
   "execution_count": 342,
   "id": "3a1f878a",
   "metadata": {},
   "outputs": [
    {
     "data": {
      "text/plain": [
       "(2, 2)"
      ]
     },
     "execution_count": 342,
     "metadata": {},
     "output_type": "execute_result"
    }
   ],
   "source": [
    "summer_df_i, summer_df_j = summer_df.shape\n",
    "summer_df_i, summer_df_j"
   ]
  },
  {
   "cell_type": "code",
   "execution_count": 343,
   "id": "c86187c5",
   "metadata": {},
   "outputs": [
    {
     "name": "stdout",
     "output_type": "stream",
     "text": [
      "['SU_A1_XL_31', 'SU_A3_L_21']\n",
      "['C1_XL', 'C2_L']\n"
     ]
    }
   ],
   "source": [
    "summer_df_cols = summer_df.columns.tolist()\n",
    "print(summer_df_cols)\n",
    "summer_df_indices = summer_df.index.tolist()\n",
    "print(summer_df_indices)"
   ]
  },
  {
   "cell_type": "code",
   "execution_count": 344,
   "id": "bf5a1650",
   "metadata": {},
   "outputs": [],
   "source": [
    "for i in range(summer_df_i):\n",
    "    for j in range(summer_df_j):        \n",
    "        cl_size = summer_df_cols[j].split(\"_\")[2]\n",
    "        cl_price = summer_df_cols[j].split(\"_\")[3]\n",
    "        cd_size = summer_df_indices[i].split(\"_\")[1]\n",
    "        if cl_size == cd_size or cl_size == \"ALL\":\n",
    "            # assign this cloth to the child\n",
    "            summer_df.loc[summer_df_indices[i], summer_df_cols[j]] = cl_price\n",
    "                \n",
    "            "
   ]
  },
  {
   "cell_type": "code",
   "execution_count": 345,
   "id": "7ff82767",
   "metadata": {},
   "outputs": [
    {
     "data": {
      "text/html": [
       "<div>\n",
       "<style scoped>\n",
       "    .dataframe tbody tr th:only-of-type {\n",
       "        vertical-align: middle;\n",
       "    }\n",
       "\n",
       "    .dataframe tbody tr th {\n",
       "        vertical-align: top;\n",
       "    }\n",
       "\n",
       "    .dataframe thead th {\n",
       "        text-align: right;\n",
       "    }\n",
       "</style>\n",
       "<table border=\"1\" class=\"dataframe\">\n",
       "  <thead>\n",
       "    <tr style=\"text-align: right;\">\n",
       "      <th></th>\n",
       "      <th>SU_A1_XL_31</th>\n",
       "      <th>SU_A3_L_21</th>\n",
       "    </tr>\n",
       "  </thead>\n",
       "  <tbody>\n",
       "    <tr>\n",
       "      <th>C1_XL</th>\n",
       "      <td>31</td>\n",
       "      <td>NaN</td>\n",
       "    </tr>\n",
       "    <tr>\n",
       "      <th>C2_L</th>\n",
       "      <td>NaN</td>\n",
       "      <td>21</td>\n",
       "    </tr>\n",
       "  </tbody>\n",
       "</table>\n",
       "</div>"
      ],
      "text/plain": [
       "      SU_A1_XL_31 SU_A3_L_21\n",
       "C1_XL          31        NaN\n",
       "C2_L          NaN         21"
      ]
     },
     "execution_count": 345,
     "metadata": {},
     "output_type": "execute_result"
    }
   ],
   "source": [
    "summer_df"
   ]
  },
  {
   "cell_type": "code",
   "execution_count": 346,
   "id": "b3a1555e",
   "metadata": {},
   "outputs": [
    {
     "data": {
      "text/plain": [
       "(2, 2)"
      ]
     },
     "execution_count": 346,
     "metadata": {},
     "output_type": "execute_result"
    }
   ],
   "source": [
    "winter_df_i, winter_df_j = winter_df.shape\n",
    "winter_df_i, winter_df_j"
   ]
  },
  {
   "cell_type": "code",
   "execution_count": 347,
   "id": "3e15b50b",
   "metadata": {},
   "outputs": [
    {
     "name": "stdout",
     "output_type": "stream",
     "text": [
      "['WI_A2_XL_24', 'WI_A4_ALL_18']\n",
      "['C1_XL', 'C2_L']\n"
     ]
    }
   ],
   "source": [
    "winter_df_cols = winter_df.columns.tolist()\n",
    "print(winter_df_cols)\n",
    "winter_df_indices = winter_df.index.tolist()\n",
    "print(winter_df_indices)"
   ]
  },
  {
   "cell_type": "code",
   "execution_count": 348,
   "id": "1fb4dbdb",
   "metadata": {},
   "outputs": [],
   "source": [
    "for i in range(winter_df_i):\n",
    "    for j in range(winter_df_j):\n",
    "        cl_size = winter_df_cols[j].split(\"_\")[2]\n",
    "        cl_price = winter_df_cols[j].split(\"_\")[3]\n",
    "        cd_size = winter_df_indices[i].split(\"_\")[1]\n",
    "        if cl_size == cd_size or cl_size == \"ALL\":\n",
    "            # assign this cloth to the child\n",
    "            winter_df.loc[winter_df_indices[i], winter_df_cols[j]] = cl_price"
   ]
  },
  {
   "cell_type": "code",
   "execution_count": 349,
   "id": "a57f7a1a",
   "metadata": {},
   "outputs": [
    {
     "data": {
      "text/html": [
       "<div>\n",
       "<style scoped>\n",
       "    .dataframe tbody tr th:only-of-type {\n",
       "        vertical-align: middle;\n",
       "    }\n",
       "\n",
       "    .dataframe tbody tr th {\n",
       "        vertical-align: top;\n",
       "    }\n",
       "\n",
       "    .dataframe thead th {\n",
       "        text-align: right;\n",
       "    }\n",
       "</style>\n",
       "<table border=\"1\" class=\"dataframe\">\n",
       "  <thead>\n",
       "    <tr style=\"text-align: right;\">\n",
       "      <th></th>\n",
       "      <th>SU_A1_XL_31</th>\n",
       "      <th>SU_A3_L_21</th>\n",
       "    </tr>\n",
       "  </thead>\n",
       "  <tbody>\n",
       "    <tr>\n",
       "      <th>C1_XL</th>\n",
       "      <td>31</td>\n",
       "      <td>NaN</td>\n",
       "    </tr>\n",
       "    <tr>\n",
       "      <th>C2_L</th>\n",
       "      <td>NaN</td>\n",
       "      <td>21</td>\n",
       "    </tr>\n",
       "  </tbody>\n",
       "</table>\n",
       "</div>"
      ],
      "text/plain": [
       "      SU_A1_XL_31 SU_A3_L_21\n",
       "C1_XL          31        NaN\n",
       "C2_L          NaN         21"
      ]
     },
     "execution_count": 349,
     "metadata": {},
     "output_type": "execute_result"
    }
   ],
   "source": [
    "summer_df"
   ]
  },
  {
   "cell_type": "code",
   "execution_count": 350,
   "id": "7e5d5910",
   "metadata": {},
   "outputs": [
    {
     "data": {
      "text/html": [
       "<div>\n",
       "<style scoped>\n",
       "    .dataframe tbody tr th:only-of-type {\n",
       "        vertical-align: middle;\n",
       "    }\n",
       "\n",
       "    .dataframe tbody tr th {\n",
       "        vertical-align: top;\n",
       "    }\n",
       "\n",
       "    .dataframe thead th {\n",
       "        text-align: right;\n",
       "    }\n",
       "</style>\n",
       "<table border=\"1\" class=\"dataframe\">\n",
       "  <thead>\n",
       "    <tr style=\"text-align: right;\">\n",
       "      <th></th>\n",
       "      <th>WI_A2_XL_24</th>\n",
       "      <th>WI_A4_ALL_18</th>\n",
       "    </tr>\n",
       "  </thead>\n",
       "  <tbody>\n",
       "    <tr>\n",
       "      <th>C1_XL</th>\n",
       "      <td>24</td>\n",
       "      <td>18</td>\n",
       "    </tr>\n",
       "    <tr>\n",
       "      <th>C2_L</th>\n",
       "      <td>NaN</td>\n",
       "      <td>18</td>\n",
       "    </tr>\n",
       "  </tbody>\n",
       "</table>\n",
       "</div>"
      ],
      "text/plain": [
       "      WI_A2_XL_24 WI_A4_ALL_18\n",
       "C1_XL          24           18\n",
       "C2_L          NaN           18"
      ]
     },
     "execution_count": 350,
     "metadata": {},
     "output_type": "execute_result"
    }
   ],
   "source": [
    "winter_df"
   ]
  },
  {
   "cell_type": "code",
   "execution_count": 351,
   "id": "b3561a5d",
   "metadata": {},
   "outputs": [
    {
     "data": {
      "text/html": [
       "<div>\n",
       "<style scoped>\n",
       "    .dataframe tbody tr th:only-of-type {\n",
       "        vertical-align: middle;\n",
       "    }\n",
       "\n",
       "    .dataframe tbody tr th {\n",
       "        vertical-align: top;\n",
       "    }\n",
       "\n",
       "    .dataframe thead th {\n",
       "        text-align: right;\n",
       "    }\n",
       "</style>\n",
       "<table border=\"1\" class=\"dataframe\">\n",
       "  <thead>\n",
       "    <tr style=\"text-align: right;\">\n",
       "      <th></th>\n",
       "      <th>SU_A1_XL_31</th>\n",
       "      <th>SU_A3_L_21</th>\n",
       "      <th>WI_A2_XL_24</th>\n",
       "      <th>WI_A4_ALL_18</th>\n",
       "    </tr>\n",
       "  </thead>\n",
       "  <tbody>\n",
       "    <tr>\n",
       "      <th>C1_XL</th>\n",
       "      <td>31</td>\n",
       "      <td>NaN</td>\n",
       "      <td>24</td>\n",
       "      <td>18</td>\n",
       "    </tr>\n",
       "    <tr>\n",
       "      <th>C2_L</th>\n",
       "      <td>NaN</td>\n",
       "      <td>21</td>\n",
       "      <td>NaN</td>\n",
       "      <td>18</td>\n",
       "    </tr>\n",
       "  </tbody>\n",
       "</table>\n",
       "</div>"
      ],
      "text/plain": [
       "      SU_A1_XL_31 SU_A3_L_21 WI_A2_XL_24 WI_A4_ALL_18\n",
       "C1_XL          31        NaN          24           18\n",
       "C2_L          NaN         21         NaN           18"
      ]
     },
     "execution_count": 351,
     "metadata": {},
     "output_type": "execute_result"
    }
   ],
   "source": [
    "matrix_df = summer_df.join(winter_df)\n",
    "matrix_df"
   ]
  },
  {
   "cell_type": "markdown",
   "id": "2c008d0e",
   "metadata": {},
   "source": [
    "#### 4. Algorithm"
   ]
  },
  {
   "cell_type": "code",
   "execution_count": 352,
   "id": "56530cff",
   "metadata": {},
   "outputs": [],
   "source": [
    "import numpy as np"
   ]
  },
  {
   "cell_type": "code",
   "execution_count": 353,
   "id": "1aa90c80",
   "metadata": {},
   "outputs": [
    {
     "data": {
      "text/html": [
       "<div>\n",
       "<style scoped>\n",
       "    .dataframe tbody tr th:only-of-type {\n",
       "        vertical-align: middle;\n",
       "    }\n",
       "\n",
       "    .dataframe tbody tr th {\n",
       "        vertical-align: top;\n",
       "    }\n",
       "\n",
       "    .dataframe thead th {\n",
       "        text-align: right;\n",
       "    }\n",
       "</style>\n",
       "<table border=\"1\" class=\"dataframe\">\n",
       "  <thead>\n",
       "    <tr style=\"text-align: right;\">\n",
       "      <th></th>\n",
       "      <th>SU_A1_XL_31</th>\n",
       "      <th>SU_A3_L_21</th>\n",
       "      <th>WI_A2_XL_24</th>\n",
       "      <th>WI_A4_ALL_18</th>\n",
       "    </tr>\n",
       "  </thead>\n",
       "  <tbody>\n",
       "    <tr>\n",
       "      <th>C1_XL</th>\n",
       "      <td>31.0</td>\n",
       "      <td>NaN</td>\n",
       "      <td>24.0</td>\n",
       "      <td>18</td>\n",
       "    </tr>\n",
       "    <tr>\n",
       "      <th>C2_L</th>\n",
       "      <td>NaN</td>\n",
       "      <td>21.0</td>\n",
       "      <td>NaN</td>\n",
       "      <td>18</td>\n",
       "    </tr>\n",
       "  </tbody>\n",
       "</table>\n",
       "</div>"
      ],
      "text/plain": [
       "       SU_A1_XL_31  SU_A3_L_21  WI_A2_XL_24  WI_A4_ALL_18\n",
       "C1_XL         31.0         NaN         24.0            18\n",
       "C2_L           NaN        21.0          NaN            18"
      ]
     },
     "execution_count": 353,
     "metadata": {},
     "output_type": "execute_result"
    }
   ],
   "source": [
    "matrix_df = matrix_df.apply(pd.to_numeric)\n",
    "matrix_df"
   ]
  },
  {
   "cell_type": "code",
   "execution_count": 428,
   "id": "faeac95c",
   "metadata": {},
   "outputs": [
    {
     "data": {
      "text/plain": [
       "array([[31., nan, 24., 18.],\n",
       "       [nan, 21., nan, 18.]])"
      ]
     },
     "execution_count": 428,
     "metadata": {},
     "output_type": "execute_result"
    }
   ],
   "source": [
    "matrix_df.to_numpy()"
   ]
  },
  {
   "cell_type": "code",
   "execution_count": 359,
   "id": "66e3cdb1",
   "metadata": {},
   "outputs": [
    {
     "data": {
      "text/html": [
       "<div>\n",
       "<style scoped>\n",
       "    .dataframe tbody tr th:only-of-type {\n",
       "        vertical-align: middle;\n",
       "    }\n",
       "\n",
       "    .dataframe tbody tr th {\n",
       "        vertical-align: top;\n",
       "    }\n",
       "\n",
       "    .dataframe thead th {\n",
       "        text-align: right;\n",
       "    }\n",
       "</style>\n",
       "<table border=\"1\" class=\"dataframe\">\n",
       "  <thead>\n",
       "    <tr style=\"text-align: right;\">\n",
       "      <th></th>\n",
       "      <th>SU_A1_XL_31</th>\n",
       "      <th>SU_A3_L_21</th>\n",
       "      <th>WI_A2_XL_24</th>\n",
       "      <th>WI_A4_ALL_18</th>\n",
       "    </tr>\n",
       "  </thead>\n",
       "  <tbody>\n",
       "    <tr>\n",
       "      <th>C1_XL</th>\n",
       "      <td>-16.0</td>\n",
       "      <td>NaN</td>\n",
       "      <td>-23.0</td>\n",
       "      <td>-29.0</td>\n",
       "    </tr>\n",
       "    <tr>\n",
       "      <th>C2_L</th>\n",
       "      <td>NaN</td>\n",
       "      <td>-26.0</td>\n",
       "      <td>NaN</td>\n",
       "      <td>-29.0</td>\n",
       "    </tr>\n",
       "  </tbody>\n",
       "</table>\n",
       "</div>"
      ],
      "text/plain": [
       "       SU_A1_XL_31  SU_A3_L_21  WI_A2_XL_24  WI_A4_ALL_18\n",
       "C1_XL        -16.0         NaN        -23.0         -29.0\n",
       "C2_L           NaN       -26.0          NaN         -29.0"
      ]
     },
     "execution_count": 359,
     "metadata": {},
     "output_type": "execute_result"
    }
   ],
   "source": [
    "matrix_df_with_fair_cost = matrix_df - r_by_n_ratio\n",
    "matrix_df_with_fair_cost # let us get back to this"
   ]
  },
  {
   "cell_type": "code",
   "execution_count": 317,
   "id": "82920e8e",
   "metadata": {},
   "outputs": [
    {
     "data": {
      "text/html": [
       "<div>\n",
       "<style scoped>\n",
       "    .dataframe tbody tr th:only-of-type {\n",
       "        vertical-align: middle;\n",
       "    }\n",
       "\n",
       "    .dataframe tbody tr th {\n",
       "        vertical-align: top;\n",
       "    }\n",
       "\n",
       "    .dataframe thead th {\n",
       "        text-align: right;\n",
       "    }\n",
       "</style>\n",
       "<table border=\"1\" class=\"dataframe\">\n",
       "  <thead>\n",
       "    <tr style=\"text-align: right;\">\n",
       "      <th></th>\n",
       "      <th>SU_A1_XL_31</th>\n",
       "      <th>SU_A3_L_21</th>\n",
       "      <th>WI_A2_XL_24</th>\n",
       "      <th>WI_A4_ALL_18</th>\n",
       "    </tr>\n",
       "  </thead>\n",
       "  <tbody>\n",
       "    <tr>\n",
       "      <th>C1_XL</th>\n",
       "      <td>31.0</td>\n",
       "      <td>-1.0</td>\n",
       "      <td>24.0</td>\n",
       "      <td>18</td>\n",
       "    </tr>\n",
       "    <tr>\n",
       "      <th>C2_L</th>\n",
       "      <td>-1.0</td>\n",
       "      <td>21.0</td>\n",
       "      <td>-1.0</td>\n",
       "      <td>18</td>\n",
       "    </tr>\n",
       "  </tbody>\n",
       "</table>\n",
       "</div>"
      ],
      "text/plain": [
       "       SU_A1_XL_31  SU_A3_L_21  WI_A2_XL_24  WI_A4_ALL_18\n",
       "C1_XL         31.0        -1.0         24.0            18\n",
       "C2_L          -1.0        21.0         -1.0            18"
      ]
     },
     "execution_count": 317,
     "metadata": {},
     "output_type": "execute_result"
    }
   ],
   "source": [
    "matrix_df.fillna(-1, inplace=True)\n",
    "matrix_df"
   ]
  },
  {
   "cell_type": "code",
   "execution_count": null,
   "id": "c1690d3b",
   "metadata": {},
   "outputs": [],
   "source": [
    "C1 S = [31] W [24,18]\n",
    "C2 S = [21] W [] -> not eligible"
   ]
  },
  {
   "cell_type": "code",
   "execution_count": null,
   "id": "f6e74749",
   "metadata": {},
   "outputs": [],
   "source": [
    "C1 S = [31] W [24]\n",
    "C2 S = [21] W [18] - > eligiblt"
   ]
  },
  {
   "cell_type": "code",
   "execution_count": 318,
   "id": "e573ef31",
   "metadata": {},
   "outputs": [],
   "source": [
    "def create_and_get_path():\n",
    "    path = {}\n",
    "    for child_record in children_records:\n",
    "        path[child_record['child_id']] = {'summer_clothes': [], 'winter_clothes': [], 'ci': 0,\n",
    "                                         'summer_winter_constraint': False}\n",
    "    return path"
   ]
  },
  {
   "cell_type": "code",
   "execution_count": 319,
   "id": "a7137249",
   "metadata": {},
   "outputs": [
    {
     "data": {
      "text/plain": [
       "(2, 4)"
      ]
     },
     "execution_count": 319,
     "metadata": {},
     "output_type": "execute_result"
    }
   ],
   "source": [
    "matrix_df_i, matrix_df_j = matrix_df.shape\n",
    "matrix_df_i, matrix_df_j "
   ]
  },
  {
   "cell_type": "code",
   "execution_count": 320,
   "id": "d01659ba",
   "metadata": {},
   "outputs": [],
   "source": [
    "matrix_df_indices = matrix_df.index.tolist()\n",
    "matrix_df_cols = matrix_df.columns.tolist()"
   ]
  },
  {
   "cell_type": "code",
   "execution_count": 321,
   "id": "dee2df4b",
   "metadata": {},
   "outputs": [
    {
     "data": {
      "text/plain": [
       "['C1_XL', 'C2_L']"
      ]
     },
     "execution_count": 321,
     "metadata": {},
     "output_type": "execute_result"
    }
   ],
   "source": [
    "matrix_df_indices"
   ]
  },
  {
   "cell_type": "code",
   "execution_count": 322,
   "id": "52a38537",
   "metadata": {},
   "outputs": [
    {
     "data": {
      "text/plain": [
       "['SU_A1_XL_31', 'SU_A3_L_21', 'WI_A2_XL_24', 'WI_A4_ALL_18']"
      ]
     },
     "execution_count": 322,
     "metadata": {},
     "output_type": "execute_result"
    }
   ],
   "source": [
    "matrix_df_cols"
   ]
  },
  {
   "cell_type": "raw",
   "id": "16a25b6f",
   "metadata": {},
   "source": [
    "paths = []\n",
    "for j in range(matrix_df_j):\n",
    "    this_path = create_and_get_path()\n",
    "    \n",
    "    for i in range(matrix_df_i):\n",
    "        if matrix_df.loc[matrix_df_indices[i], matrix_df_cols[j]] > 0:\n",
    "            ch_id = matrix_df_indices[i].split(\"_\")[0]\n",
    "            cl_season = matrix_df_cols[j].split(\"_\")[0]\n",
    "            cl_id = matrix_df_cols[j].split(\"_\")[1]\n",
    "            cl_price = matrix_df_cols[j].split(\"_\")[3]\n",
    "            \n",
    "            if cl_season == 'summer':\n",
    "                this_path[ch_id]['summer_clothes'].append(cl_id)\n",
    "            else:\n",
    "                this_path[ch_id]['winter_clothes'].append(cl_id)\n",
    "                \n",
    "            this_path[ch_id]['ci'] += float(cl_price)\n",
    "            \n",
    "            if this_path[ch_id]['summer_clothes'] and this_path[ch_id]['winter_clothes']:\n",
    "                this_path[ch_id]['summer_winter_constraint'] = True\n",
    "                \n",
    "            summer_df.loc[matrix_df_indices[i], matrix_df_cols[j]] = -2 # already explored\n",
    "            print(this_path)\n",
    "            print(\"\\n\\n\")\n",
    "            break # already mapped this cloth\n",
    "    \n",
    "        "
   ]
  },
  {
   "cell_type": "code",
   "execution_count": 388,
   "id": "994731e6",
   "metadata": {},
   "outputs": [
    {
     "data": {
      "text/plain": [
       "18"
      ]
     },
     "execution_count": 388,
     "metadata": {},
     "output_type": "execute_result"
    }
   ],
   "source": [
    "matrix_df.loc[matrix_df_indices[1],matrix_df_cols[3]]"
   ]
  },
  {
   "cell_type": "code",
   "execution_count": 399,
   "id": "bf83001f",
   "metadata": {},
   "outputs": [
    {
     "data": {
      "text/html": [
       "<div>\n",
       "<style scoped>\n",
       "    .dataframe tbody tr th:only-of-type {\n",
       "        vertical-align: middle;\n",
       "    }\n",
       "\n",
       "    .dataframe tbody tr th {\n",
       "        vertical-align: top;\n",
       "    }\n",
       "\n",
       "    .dataframe thead th {\n",
       "        text-align: right;\n",
       "    }\n",
       "</style>\n",
       "<table border=\"1\" class=\"dataframe\">\n",
       "  <thead>\n",
       "    <tr style=\"text-align: right;\">\n",
       "      <th></th>\n",
       "      <th>SU_A1_XL_31</th>\n",
       "      <th>SU_A3_L_21</th>\n",
       "      <th>WI_A2_XL_24</th>\n",
       "      <th>WI_A4_ALL_18</th>\n",
       "    </tr>\n",
       "  </thead>\n",
       "  <tbody>\n",
       "    <tr>\n",
       "      <th>C1_XL</th>\n",
       "      <td>31.0</td>\n",
       "      <td>NaN</td>\n",
       "      <td>24.0</td>\n",
       "      <td>18</td>\n",
       "    </tr>\n",
       "    <tr>\n",
       "      <th>C2_L</th>\n",
       "      <td>NaN</td>\n",
       "      <td>21.0</td>\n",
       "      <td>NaN</td>\n",
       "      <td>18</td>\n",
       "    </tr>\n",
       "  </tbody>\n",
       "</table>\n",
       "</div>"
      ],
      "text/plain": [
       "       SU_A1_XL_31  SU_A3_L_21  WI_A2_XL_24  WI_A4_ALL_18\n",
       "C1_XL         31.0         NaN         24.0            18\n",
       "C2_L           NaN        21.0          NaN            18"
      ]
     },
     "execution_count": 399,
     "metadata": {},
     "output_type": "execute_result"
    }
   ],
   "source": [
    "matrix_df"
   ]
  },
  {
   "cell_type": "code",
   "execution_count": 451,
   "id": "b09c7416",
   "metadata": {},
   "outputs": [],
   "source": [
    "matrix_df = matrix_df.fillna(-1)"
   ]
  },
  {
   "cell_type": "code",
   "execution_count": 454,
   "id": "8b88a30f",
   "metadata": {},
   "outputs": [
    {
     "data": {
      "text/html": [
       "<div>\n",
       "<style scoped>\n",
       "    .dataframe tbody tr th:only-of-type {\n",
       "        vertical-align: middle;\n",
       "    }\n",
       "\n",
       "    .dataframe tbody tr th {\n",
       "        vertical-align: top;\n",
       "    }\n",
       "\n",
       "    .dataframe thead th {\n",
       "        text-align: right;\n",
       "    }\n",
       "</style>\n",
       "<table border=\"1\" class=\"dataframe\">\n",
       "  <thead>\n",
       "    <tr style=\"text-align: right;\">\n",
       "      <th></th>\n",
       "      <th>SU_A1_XL_31</th>\n",
       "      <th>SU_A3_L_21</th>\n",
       "      <th>WI_A2_XL_24</th>\n",
       "      <th>WI_A4_ALL_18</th>\n",
       "    </tr>\n",
       "  </thead>\n",
       "  <tbody>\n",
       "    <tr>\n",
       "      <th>C1_XL</th>\n",
       "      <td>31.0</td>\n",
       "      <td>-1.0</td>\n",
       "      <td>24.0</td>\n",
       "      <td>18</td>\n",
       "    </tr>\n",
       "    <tr>\n",
       "      <th>C2_L</th>\n",
       "      <td>-1.0</td>\n",
       "      <td>21.0</td>\n",
       "      <td>-1.0</td>\n",
       "      <td>18</td>\n",
       "    </tr>\n",
       "  </tbody>\n",
       "</table>\n",
       "</div>"
      ],
      "text/plain": [
       "       SU_A1_XL_31  SU_A3_L_21  WI_A2_XL_24  WI_A4_ALL_18\n",
       "C1_XL         31.0        -1.0         24.0            18\n",
       "C2_L          -1.0        21.0         -1.0            18"
      ]
     },
     "execution_count": 454,
     "metadata": {},
     "output_type": "execute_result"
    }
   ],
   "source": [
    "matrix_df"
   ]
  },
  {
   "cell_type": "code",
   "execution_count": 619,
   "id": "bf54ea85",
   "metadata": {},
   "outputs": [],
   "source": [
    "def print_all_paths_helper(matrix_df, i, j, m, n, path, pi, pj, whitelisted_j):\n",
    "    if pi == m:\n",
    "        return \n",
    "    if pj == n - 1:\n",
    "        # reached the right end of column\n",
    "        # print and return\n",
    "        if matrix_df.loc[matrix_df_indices[pi],matrix_df_cols[pj]] > 0:\n",
    "            path[i][j] = matrix_df.loc[matrix_df_indices[pi],matrix_df_cols[pj]]\n",
    "            # TODO: Replace this with whitelist\n",
    "            for idx in range(matrix_df_i):\n",
    "                if idx == i:\n",
    "                    continue\n",
    "                path[idx][j] = None\n",
    "        local_minimum = 0\n",
    "        for row_idx in range(matrix_df_i):\n",
    "            ci_this_child = 0\n",
    "            for col_idx in range(matrix_df_j):\n",
    "                if path[row_idx][col_idx] is not None:\n",
    "                    ci_this_child += path[row_idx][col_idx]\n",
    "            local_minimum += abs(r_by_n_ratio - ci_this_child)\n",
    "        print(local_minimum)\n",
    "        for row in path:\n",
    "            print(row)\n",
    "                \n",
    "        print(\"\\n\\n\")\n",
    "        # whitelist this j\n",
    "        return\n",
    "    # add them if only eligible\n",
    "    # add current cell\n",
    "    if matrix_df.loc[matrix_df_indices[pi],matrix_df_cols[pj]] > 0:\n",
    "        path[i][j] = matrix_df.loc[matrix_df_indices[pi],matrix_df_cols[pj]]\n",
    "        for idx in range(matrix_df_i):\n",
    "            if idx == i:\n",
    "                continue\n",
    "            path[idx][j] = None\n",
    "    else:\n",
    "        if i + 1 < m:\n",
    "            print_all_paths_helper(matrix_df, i+1, j , matrix_df_i, matrix_df_j, path, i + 1, j, whitelisted_j)\n",
    "        if i - 1 >= 0:\n",
    "            print_all_paths_helper(matrix_df, i-1, j, matrix_df_i, matrix_df_j, path, i - 1, j, whitelisted_j)\n",
    "\n",
    "\n",
    "            \n",
    "    # print all paths that are possible moving to next column\n",
    "    #for ix in range(i, m):\n",
    "    print_all_paths_helper(matrix_df, i, j + 1, matrix_df_i, matrix_df_j, path, pi, j + 1, whitelisted_j)\n",
    "    #print_all_paths_helper(matrix_df, i+1, j + 1, matrix_df_i, matrix_df_j, path, i + 1, j + 1, whitelisted_j)\n",
    "    \n",
    "\n",
    "def print_all_paths(matrix_df, matrix_df_i, matrix_df_j):\n",
    "    whitelisted_j = []\n",
    "    path = [[None for j in range(matrix_df_j)] for i in range(matrix_df_i)]\n",
    "    print_all_paths_helper(matrix_df, 0, 0, matrix_df_i, matrix_df_j, path, 0, 0, whitelisted_j)\n",
    "        "
   ]
  },
  {
   "cell_type": "code",
   "execution_count": 620,
   "id": "fc2558f6",
   "metadata": {},
   "outputs": [
    {
     "name": "stdout",
     "output_type": "stream",
     "text": [
      "52.0\n",
      "[31.0, None, 24.0, 18]\n",
      "[None, 21.0, None, None]\n",
      "\n",
      "\n",
      "\n",
      "16.0\n",
      "[31.0, None, 24.0, None]\n",
      "[None, 21.0, None, 18]\n",
      "\n",
      "\n",
      "\n",
      "52.0\n",
      "[31.0, None, 24.0, 18]\n",
      "[None, 21.0, None, None]\n",
      "\n",
      "\n",
      "\n"
     ]
    }
   ],
   "source": [
    "print_all_paths(matrix_df, matrix_df_i, matrix_df_j)"
   ]
  },
  {
   "cell_type": "code",
   "execution_count": 616,
   "id": "fab10896",
   "metadata": {},
   "outputs": [
    {
     "data": {
      "text/html": [
       "<div>\n",
       "<style scoped>\n",
       "    .dataframe tbody tr th:only-of-type {\n",
       "        vertical-align: middle;\n",
       "    }\n",
       "\n",
       "    .dataframe tbody tr th {\n",
       "        vertical-align: top;\n",
       "    }\n",
       "\n",
       "    .dataframe thead th {\n",
       "        text-align: right;\n",
       "    }\n",
       "</style>\n",
       "<table border=\"1\" class=\"dataframe\">\n",
       "  <thead>\n",
       "    <tr style=\"text-align: right;\">\n",
       "      <th></th>\n",
       "      <th>SU_A1_XL_31</th>\n",
       "      <th>SU_A3_L_21</th>\n",
       "      <th>WI_A2_XL_24</th>\n",
       "      <th>WI_A4_ALL_18</th>\n",
       "    </tr>\n",
       "  </thead>\n",
       "  <tbody>\n",
       "    <tr>\n",
       "      <th>C1_XL</th>\n",
       "      <td>31.0</td>\n",
       "      <td>-1.0</td>\n",
       "      <td>24.0</td>\n",
       "      <td>18</td>\n",
       "    </tr>\n",
       "    <tr>\n",
       "      <th>C2_L</th>\n",
       "      <td>-1.0</td>\n",
       "      <td>21.0</td>\n",
       "      <td>-1.0</td>\n",
       "      <td>18</td>\n",
       "    </tr>\n",
       "  </tbody>\n",
       "</table>\n",
       "</div>"
      ],
      "text/plain": [
       "       SU_A1_XL_31  SU_A3_L_21  WI_A2_XL_24  WI_A4_ALL_18\n",
       "C1_XL         31.0        -1.0         24.0            18\n",
       "C2_L          -1.0        21.0         -1.0            18"
      ]
     },
     "execution_count": 616,
     "metadata": {},
     "output_type": "execute_result"
    }
   ],
   "source": [
    "matrix_df"
   ]
  },
  {
   "cell_type": "code",
   "execution_count": null,
   "id": "1a3595f1",
   "metadata": {},
   "outputs": [],
   "source": []
  }
 ],
 "metadata": {
  "kernelspec": {
   "display_name": "Python 3",
   "language": "python",
   "name": "python3"
  },
  "language_info": {
   "codemirror_mode": {
    "name": "ipython",
    "version": 3
   },
   "file_extension": ".py",
   "mimetype": "text/x-python",
   "name": "python",
   "nbconvert_exporter": "python",
   "pygments_lexer": "ipython3",
   "version": "3.8.8"
  }
 },
 "nbformat": 4,
 "nbformat_minor": 5
}
